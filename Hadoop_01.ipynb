{
 "cells": [
  {
   "cell_type": "markdown",
   "metadata": {},
   "source": [
    "### 01. What is Data Skewness\n",
    "\n",
    "Data Skewness is when data is nit evenly distributed across different partitions. This means, it is a condition where in one partition the amount of data is huge compared to other partitions of same dataset.\n",
    "\n",
    "It severly downgrades the performance of queries, especially joins and aggregate functions.\n",
    "\n",
    "When creating a table in the database, an important decision is how to partition a table. The following are some best practices to follow,\n",
    "\n",
    "- Atleast one partition per node.\n",
    "\n",
    "- Number of partitions should be multiple of number of nodes and must not exceed (No. of Cores * No. of Nodes)\n",
    "\n",
    "- Tables should be partitioned on primary key, foreign key or on combination of both."
   ]
  },
  {
   "cell_type": "markdown",
   "metadata": {},
   "source": [
    "### 02. Solutions of Data Skewness in Spark\n",
    "\n",
    "1. Repartition\n",
    "\n",
    "2. Salting Technique\n",
    "\n",
    "3. Isolating Salting\n",
    "\n",
    "4. Isolating Map Join\n",
    "\n",
    "5. Iterative Broadcast Join\n",
    "\n",
    "\n",
    "#### Repartition\n",
    "\n",
    "Try to repartition data to achieve evenly partitioned datasets.\n",
    "\n",
    "\n",
    "#### Salting\n",
    "\n",
    "For skewed partitions and partition IDs we try to add some random numbers or random keys so that we can redistribute it with new keys."
   ]
  },
  {
   "cell_type": "code",
   "execution_count": null,
   "metadata": {},
   "outputs": [],
   "source": []
  },
  {
   "cell_type": "code",
   "execution_count": null,
   "metadata": {},
   "outputs": [],
   "source": []
  },
  {
   "cell_type": "code",
   "execution_count": null,
   "metadata": {},
   "outputs": [],
   "source": []
  },
  {
   "cell_type": "code",
   "execution_count": null,
   "metadata": {},
   "outputs": [],
   "source": []
  },
  {
   "cell_type": "code",
   "execution_count": null,
   "metadata": {},
   "outputs": [],
   "source": []
  },
  {
   "cell_type": "code",
   "execution_count": null,
   "metadata": {},
   "outputs": [],
   "source": []
  },
  {
   "cell_type": "code",
   "execution_count": null,
   "metadata": {},
   "outputs": [],
   "source": []
  },
  {
   "cell_type": "code",
   "execution_count": null,
   "metadata": {},
   "outputs": [],
   "source": []
  },
  {
   "cell_type": "code",
   "execution_count": null,
   "metadata": {},
   "outputs": [],
   "source": []
  },
  {
   "cell_type": "code",
   "execution_count": null,
   "metadata": {},
   "outputs": [],
   "source": []
  },
  {
   "cell_type": "code",
   "execution_count": null,
   "metadata": {},
   "outputs": [],
   "source": []
  }
 ],
 "metadata": {
  "kernelspec": {
   "display_name": "Python 3",
   "language": "python",
   "name": "python3"
  },
  "language_info": {
   "codemirror_mode": {
    "name": "ipython",
    "version": 3
   },
   "file_extension": ".py",
   "mimetype": "text/x-python",
   "name": "python",
   "nbconvert_exporter": "python",
   "pygments_lexer": "ipython3",
   "version": "3.7.4"
  }
 },
 "nbformat": 4,
 "nbformat_minor": 2
}
