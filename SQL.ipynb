{
 "cells": [
  {
   "cell_type": "markdown",
   "metadata": {},
   "source": [
    "### 1. Types of SQL Commands "
   ]
  },
  {
   "cell_type": "markdown",
   "metadata": {},
   "source": [
    "**Data Definition Language (DDL)** These commands are used to create the structure of SQL Databases and Tables. Ex: CREATE, ALTER, DROP, TRUNCATE, RENAME etc.,\n",
    "\n",
    "**Data Manipulation Language (DML)** These commands are used to manipulate the data present in in the database. Ex: SELECT, INSERT, UPDATE, DELETE etc.,\n",
    "\n",
    "**Data Control Language (DCL)** These commands control data access permissions to user. Ex: GRANT, REVOKE etc.,\n",
    "\n",
    "**Transaction Control Language (TCL)** These commands will control the transactions. Ex: COMMIT, ROLLBACK, SAVEPOINT etc.,\n"
   ]
  },
  {
   "cell_type": "markdown",
   "metadata": {},
   "source": [
    "### 2. What is a Table in SQL? "
   ]
  },
  {
   "cell_type": "markdown",
   "metadata": {},
   "source": [
    "Table is a set of organized data. In tables data is stored in the form of Rows & Columns. Each row is a record and column is a field."
   ]
  },
  {
   "cell_type": "markdown",
   "metadata": {},
   "source": [
    "### 3. What is Primary Key?"
   ]
  },
  {
   "cell_type": "markdown",
   "metadata": {},
   "source": [
    "Primary key is a special kind of UNIQUE KEY. It uniquely identifies rows in a table. Primary key cannot be NULL and a table can have only one Primary Key.\n",
    "\n",
    "SSN is an example of a primary key."
   ]
  },
  {
   "cell_type": "code",
   "execution_count": 7,
   "metadata": {},
   "outputs": [
    {
     "ename": "SyntaxError",
     "evalue": "invalid syntax (<ipython-input-7-aed13ab450b1>, line 3)",
     "output_type": "error",
     "traceback": [
      "\u001b[1;36m  File \u001b[1;32m\"<ipython-input-7-aed13ab450b1>\"\u001b[1;36m, line \u001b[1;32m3\u001b[0m\n\u001b[1;33m    ALTER TABLE Persons\u001b[0m\n\u001b[1;37m              ^\u001b[0m\n\u001b[1;31mSyntaxError\u001b[0m\u001b[1;31m:\u001b[0m invalid syntax\n"
     ]
    }
   ],
   "source": [
    "# Example to create primary key on ALTER TABLE\n",
    "\n",
    "ALTER TABLE Persons\n",
    "ADD PRIMARY KEY (ID);"
   ]
  },
  {
   "cell_type": "code",
   "execution_count": 6,
   "metadata": {},
   "outputs": [
    {
     "ename": "SyntaxError",
     "evalue": "invalid syntax (<ipython-input-6-b47150b66067>, line 3)",
     "output_type": "error",
     "traceback": [
      "\u001b[1;36m  File \u001b[1;32m\"<ipython-input-6-b47150b66067>\"\u001b[1;36m, line \u001b[1;32m3\u001b[0m\n\u001b[1;33m    CREATE TABLE Persons (\u001b[0m\n\u001b[1;37m               ^\u001b[0m\n\u001b[1;31mSyntaxError\u001b[0m\u001b[1;31m:\u001b[0m invalid syntax\n"
     ]
    }
   ],
   "source": [
    "# Example to create primary key on CREATE TABLE\n",
    "\n",
    "CREATE TABLE Persons (\n",
    "    ID int NOT NULL,\n",
    "    LastName varchar(255) NOT NULL,\n",
    "    FirstName varchar(255),\n",
    "    Age int,\n",
    "    PRIMARY KEY (ID)\n",
    ");"
   ]
  },
  {
   "cell_type": "markdown",
   "metadata": {},
   "source": [
    "### 4. Foreign Key"
   ]
  },
  {
   "cell_type": "markdown",
   "metadata": {},
   "source": [
    "Forein key is primary key in another table. It is used to create relationship between two tables. Usually in databases most of the data is spread across different tables, when retrieving the data we often need to combine multiple tables primary key and forein keys are used when combining the data across tables."
   ]
  },
  {
   "cell_type": "markdown",
   "metadata": {},
   "source": [
    "### 5. Difference between Primary key and Foreign Key"
   ]
  },
  {
   "cell_type": "markdown",
   "metadata": {},
   "source": [
    "1. Primary key is uniquely identify a record in the table where as Foreign key is a primary key in another table.\n",
    "\n",
    "2. Primary key doesnt accept Null values whereas Foreign key accepts null values.\n",
    "\n",
    "3. We can have only one primary key in a table but we can have more than one Foreign Keys inside a table.\n",
    "\n",
    "4. The example for a primary key is SSN number and for foreign key is Street address."
   ]
  },
  {
   "cell_type": "markdown",
   "metadata": {},
   "source": [
    "### 6. What is Unique Key?\n",
    "\n",
    "https://www.javatpoint.com/unique-key-in-sql"
   ]
  },
  {
   "cell_type": "markdown",
   "metadata": {},
   "source": [
    "- Unique Key uniquely identifies each record in the table.\n",
    "\n",
    "- It cannot be duplicate\n",
    "\n",
    "- It can be NULL"
   ]
  },
  {
   "cell_type": "markdown",
   "metadata": {},
   "source": [
    "###  7. Difference between Primary Key and Unique Key?\n",
    "\n",
    "Both are used to uniquely identify the records in the table. Both dont accept duplicate values. But Primary Key cannot be NULL where as Unique key can be NULL. "
   ]
  },
  {
   "cell_type": "markdown",
   "metadata": {},
   "source": [
    "### 8. What level of Normalization did your company tables are using?  "
   ]
  },
  {
   "cell_type": "markdown",
   "metadata": {},
   "source": [
    "Most of the companies usually Normalize atlest upto Third Normal Form (3NF) to avoid inconsistencies. Basically Normalization breaks the table into small partitions and links them using relationships.\n",
    "\n",
    "By doing so removes anomalies, redundancy and inconsistencies in data.\n",
    "\n",
    "There are three forms of Normalizations. \n",
    "\n",
    "1. First Normal Form (1NF)\n",
    "\n",
    "2. Second Normal Form (2NF) --> No partial dependency\n",
    "\n",
    "3. Third Normal Form (3NF)  --> No Transitive dependency\n",
    "\n",
    "4. Fourth Normal Form (4NF)\n",
    "\n",
    "For more detailed notes on Normalization I went through the below articles.\n",
    "https://www.edureka.co/blog/normalization-in-sql/\n",
    "\n",
    "https://www.youtube.com/playlist?list=PLLGlmW7jT-nTr1ory9o2MgsOmmx2w8FB3"
   ]
  },
  {
   "cell_type": "markdown",
   "metadata": {},
   "source": [
    "### 9. Difference between snowflake schema and star schema?"
   ]
  },
  {
   "cell_type": "markdown",
   "metadata": {},
   "source": [
    "These Star and Snowflake schemas are used when designing a datawarehouse.\n",
    "\n",
    "In **Star Schema** there is one fact table and there are few dimension tables surrouding the fact table. The main thing to know here are these dimension tables are *Not Normalized*\n",
    "\n",
    "In **Snowflake Schema** there will be fact table at the center and the dimension tables surrounding fact table are *nomalized* which splits data into additional tables. This difference makes huge difference when querying tables in snowflake schema. This makes us to use lot of joins and querytime will be quiet slow.\n",
    "\n",
    "For more notes on this topic, I referred the following article.\n",
    "https://www.guru99.com/star-snowflake-data-warehousing.html\n",
    "\n",
    "<img src=\"datasets/1.png\">"
   ]
  },
  {
   "cell_type": "markdown",
   "metadata": {},
   "source": [
    "### 10.Types of Operators in SQL\n",
    "\n",
    "- Arithmetic Operators : +,-,%,/,*\n",
    "\n",
    "- Logical Operators : AND OR IN BETWEEN LIKE etc.,\n",
    "\n",
    "- Comparision Operators : < > = >= <= !="
   ]
  },
  {
   "cell_type": "markdown",
   "metadata": {},
   "source": [
    "### 11. What are Views in SQL?\n",
    "\n",
    "- View is a virtual table which contain subset of data. \n",
    "\n",
    "- Since Views are not originally present, it takes less space to store.\n",
    "\n",
    "- A view can have data from more than one table\n",
    "\n",
    "- Views are used to apply security mechanisms in SQL\n"
   ]
  },
  {
   "cell_type": "markdown",
   "metadata": {},
   "source": [
    "### 12. What are Indexes in SQL?\n",
    "\n",
    "- Indexes are used for fast retrieval of records from table/views.\n",
    "\n",
    "- An Index contains keys built from one or more columns in the table or view. These keys are stored in a structure that enables SQL to find the row or rows associated with key values quickly and efficiently.\n",
    "\n",
    "- They reduce cost of query.\n",
    "\n",
    "- A index cannot be duplicated."
   ]
  },
  {
   "cell_type": "markdown",
   "metadata": {},
   "source": [
    "### 13. What are types of Indexes in SQL?\n",
    "\n",
    "There are two types of Indexes in SQL\n",
    "\n",
    "1. Clustered Index\n",
    "\n",
    "2. Non-Clustered Index\n",
    "\n",
    "Each type of index has its own properties they are,\n",
    "\n",
    "\n",
    "- Clustered index is faster than Non-Clustered index.\n",
    "\n",
    "- One table can have only one clustered index but can have multiple non-clustered indexes.\n",
    "\n",
    "- Clustered index changes the way how records are stored in the database. While non-clustered index does not alter the way records are stored but it creates a separate objject within a table which points back to the original table after searching."
   ]
  },
  {
   "cell_type": "markdown",
   "metadata": {},
   "source": [
    "### 14. Difference between TRUNCATE and DELETE\n",
    "\n",
    "- DELETE deletes one or more rows from the table.\n",
    "\n",
    "- TRUNCATE deletes all the rows.\n",
    "\n",
    "- You can rollback DELETE command but you cannot rollback TRUNCATE command."
   ]
  },
  {
   "cell_type": "markdown",
   "metadata": {},
   "source": [
    "### 15. Difference between DROP and TRUNCATE\n",
    "\n",
    "If table is dropped, all things associated with table like relationships, checks, constraints, access previliges and grants are dropped as well. To create the table again in original form, all these things should be redefined.\n",
    "\n",
    "However, if table is truncated, table retains its original structure. Only rows are deleted.\n"
   ]
  },
  {
   "cell_type": "markdown",
   "metadata": {},
   "source": [
    "### 16. What are aggregate functions in SQL?\n",
    "\n",
    "An aggregate function performs calculation on one or more values and returns a single value. Aggregate functions are often used with GROUPBY clause and HAVING clause.\n",
    "\n",
    "Aggregate functions ignores NULL values, except in COUNT() function.\n",
    "\n",
    "<img src=\"datasets/2.gif\">"
   ]
  },
  {
   "cell_type": "markdown",
   "metadata": {},
   "source": [
    "### 17. What is COALESCE in SQL?\n",
    "\n",
    "It is a built-in SQL function. It retuns first `NON-NULL value`. It is used to replace NULL values in a column with any other value.\n",
    "\n",
    "Same thing can be achieved with CASE statement but COALESCE is used as shortcut to CASE statements when replacing the NULL values. "
   ]
  },
  {
   "cell_type": "markdown",
   "metadata": {},
   "source": [
    "### 18. What is Stored Procedure in SQL?\n",
    "\n",
    "A stored procedure is a prepared SQL code that you can save, so that code can be resused over and over again. The main advantage with stored procedures is, SQL stores execution plan when you call the stored procedure for the first time. When the Stored procedure is called later it refers to the execution plan that is stored in cache. It makes them to very reliable and execute faster.\n",
    "\n",
    "Stored procedure wraps the SQL statements inside,\n",
    "\n",
    "\n",
    "CREATE PROCEDURE proc_name\n",
    "\n",
    "AS\n",
    "\n",
    "BEGIN\n",
    "\n",
    "    > SQL code...\n",
    "\n",
    "END;"
   ]
  },
  {
   "cell_type": "markdown",
   "metadata": {},
   "source": [
    "### 19. What are JOINS in SQL?\n",
    "\n",
    "Joins combine data from multiple tables. There are various types of joins\n",
    "\n",
    "1. INNER JOIN\n",
    "\n",
    "2. LEFT JOIN\n",
    "\n",
    "3. RIGHT JOIN\n",
    "\n",
    "4. OUTER JOIN"
   ]
  },
  {
   "cell_type": "markdown",
   "metadata": {},
   "source": [
    "### 20. What is difference between UNION and UNION ALL?\n",
    "\n",
    "- UNION command is used to combine records from two tables.\n",
    "\n",
    "- The difference between JOINS and UNION is - JOINS combine columns and UNION combines rows.\n",
    "\n",
    "- To perform UNION selected columns from both tables must be of same Data Type.\n",
    "\n",
    "- UNION selects Distinct values among the combined records where as UNION ALL selects  all the information including duplicates also."
   ]
  },
  {
   "cell_type": "markdown",
   "metadata": {},
   "source": [
    "### 21. What are different constratins in SQL?\n",
    "\n",
    "Constraint specify rules in SQL\n",
    "\n",
    "**NOT NULL** Restricts NULL value being inserted into column.\n",
    "\n",
    "**DEFAULT** Automatically assigns DEFAULT value, if no value is assigned.\n",
    "\n",
    "**UNIQUE** Ensures unique values are inserted in column.\n",
    "\n",
    "**INDEX** Used for faster retrieval of records.\n",
    "\n",
    "**PRIMARY KEY** uniquely identifies records in table\n",
    " \n",
    "**FOREIGN KEY** Primary key in another table.\n",
    "\n",
    "**CHECK** Limits the value range that can be placed in a column."
   ]
  },
  {
   "cell_type": "markdown",
   "metadata": {},
   "source": [
    "### 22. What are subqueries in SQL?\n",
    "\n",
    "- Sub uery is query within a query. It is also called as Nested Query. \n",
    "\n",
    "- Subqueries can either return only one row from inner SELECT statement or it can return multiple rows.\n",
    "\n",
    "- Subquery executes first, and its output is used to execute outer query.\n",
    "\n",
    "- We can have upto 32 levels of subqueries."
   ]
  },
  {
   "cell_type": "markdown",
   "metadata": {},
   "source": [
    "### 23. What is pattern matching in SQL?\n",
    "\n",
    "Pattern matching is used to search for patterns in data if you dont know the exact value. \n",
    "\n",
    "For pattern matching you can use wildcard operators with LIKE operator in WHERE clause and enclose the pattern within single quotation marks.\n",
    "\n",
    "<img src=\"datasets/wc2.jpg\">"
   ]
  },
  {
   "cell_type": "markdown",
   "metadata": {},
   "source": [
    "### 24. Difference between IN and BETWEEN in SQL\n",
    "\n",
    "BETWEEN operator is used to display values based on range of values.\n",
    "\n",
    "<img src=\"datasets/bet.png\">\n",
    "\n",
    "IN condition operator is used to check for values contained in a specific set of values.\n",
    "\n",
    "<img src=\"datasets/in.png\">"
   ]
  },
  {
   "cell_type": "markdown",
   "metadata": {},
   "source": [
    "### 25. Difference between HAVING and WHERE clause.\n",
    "\n",
    "WHERE is used to filter records before GROUPING and HAVING is used to filter records after GROUPING.\n",
    "\n",
    "WHERE can be used even when we are not performing GROUP BY operations. But HAVING should be used only along with GROUP BY."
   ]
  },
  {
   "cell_type": "markdown",
   "metadata": {},
   "source": [
    "### 26. What are Triggers in SQL?\n",
    "\n",
    "A trigger is a code that automatically executed with response to some event on the table. Triggers are always associated with table and they are invoked after a data row is inserted, updated or deleted.\n",
    "\n",
    "Triggers are also used to enforce business rules and security."
   ]
  },
  {
   "cell_type": "markdown",
   "metadata": {},
   "source": [
    "### 27. Difference between CHAR and VARCHAR2 in SQL?\n",
    "\n",
    "Both are used to store textual data in the form of strings but,\n",
    "\n",
    "- CHAR stores strings of fixed length.\n",
    "\n",
    "- VARCHAR2 stores strings of variable lenght"
   ]
  },
  {
   "cell_type": "markdown",
   "metadata": {},
   "source": [
    "### 28. Difference between SQL and MySQL\n",
    "\n",
    "SQL is a standard language and MySQL is RDBMS."
   ]
  },
  {
   "cell_type": "markdown",
   "metadata": {},
   "source": [
    "### 29. What is Denormalalization in SQL?\n",
    "\n",
    "Denormalization is adding redundant data from various tables by combining them and forming a sigle table."
   ]
  },
  {
   "cell_type": "markdown",
   "metadata": {},
   "source": [
    "### 30. How do you fetch alternate records from a table?\n",
    "\n",
    "You can fetch odd or even records using MOD() method."
   ]
  },
  {
   "cell_type": "markdown",
   "metadata": {},
   "source": [
    "### 31. What is a Recursive Stored Procedure in SQL?\n",
    "\n",
    "Recursive Stored Procedure refers to a stored procedure which calls itself until it reaches some boundary."
   ]
  },
  {
   "cell_type": "markdown",
   "metadata": {},
   "source": [
    "### 32. What is MERGE statement in SQL?\n",
    "\n",
    "MERGE statement is used to update the target table based on source table. \n",
    "\n",
    "If source table has some rows that does not exist in target tables then we INSERT.\n",
    "\n",
    "If source table do not have rows that are in target tables we DELETE."
   ]
  },
  {
   "cell_type": "markdown",
   "metadata": {},
   "source": [
    "### 33. What are Entities and Relationships?\n",
    "\n",
    "Entities are a person, place, thing about which data is stored in the database. Relationships are links between Entities.\n",
    "\n",
    "Different types of relationships are\n",
    "\n",
    "1. One-to-One\n",
    "\n",
    "2. One-to-Many\n",
    "\n",
    "3. Many-to-Many"
   ]
  },
  {
   "cell_type": "markdown",
   "metadata": {},
   "source": [
    "### 34. What are different types of Subqueries?\n",
    "\n",
    "1. Correlated Subquery\n",
    "\n",
    "2. Non-Correlated subquery\n",
    "\n",
    "The main difference between subqueries lies in their working. A regular subquery just run once and return a value or set of values which is used by outer query.\n",
    "\n",
    "Correlated subquery runs again for each rows returned by outer query because output of whole query is based upon comparing the data returned by one row to all other rows of a table.\n",
    "\n",
    "Example: Finding the second highest salary of an employee in a given table.  It compares the salary returned by outer query and compares with other salaries to findout how many salaries are higher than this current salary."
   ]
  },
  {
   "cell_type": "markdown",
   "metadata": {},
   "source": [
    "### 35. What is difference between PL/SQL and SQL?\n",
    "\n",
    "SQL is a query language that allows you to issue a single query or execute single INSERT/DELETE/UPDATE statement\n",
    "\n",
    "PL/SQL is procedural language that allows you to write a full program using loops. With PL/SQL you can accomplish multiple operations at once."
   ]
  },
  {
   "cell_type": "markdown",
   "metadata": {},
   "source": [
    "### 36. What is OFFSET in SQL?\n",
    "\n",
    "OFFSET clause specifies the number of rows to skip before stating to return rows from the query. Basically it excludes the first set of records.\n",
    "\n",
    "- OFFSET can only be used with ORDER BY. It cannot be used by its own.\n",
    "\n",
    "- OFFSET must be greater than or equal to zero.\n",
    "\n",
    "- FETCH clause specifies the number of rows to return after the OFFSET clause has been processed.\n",
    "\n",
    "- OFFSET clause is mandatory and FETCH is optional."
   ]
  },
  {
   "cell_type": "markdown",
   "metadata": {},
   "source": [
    "### 37. Differences between TOP and OFFSET\n",
    "\n",
    "They both are used for the same result but they have few differences\n",
    "\n",
    "<img src=\"datasets/off.png\">"
   ]
  },
  {
   "cell_type": "markdown",
   "metadata": {},
   "source": [
    "### 38. How to replace NULL values in SQL?\n",
    "\n",
    "When retrieving the data from tables, there are different ways to replace NULL values with different word.\n",
    "\n",
    "- ISNULL()\n",
    "\n",
    "- CASE Statement\n",
    "\n",
    "- COALESCE()\n",
    "\n",
    "\n",
    "**ISNULL()** is the easiest way of all. It just takes column name and replacement value. If there is any null value inside column it replaces them with replacement word.\n",
    "\n",
    "**COALESCE()** function is used to return first non-null value. COALESCE() is much similar to ISNULL(), you can pass the column name and replacement value when retrieving the data. It replaces the NULL values with replacement value.\n",
    "\n",
    "**CASE statement** \n",
    "\n",
    "[CASE WHEN \"expression\" THEN  \"expression\" ELSE \"expression\" END]\n",
    "\n",
    "This is how we use CASE statements. We specify CASE keyword first, then we specify an expression, if that expression returns True, THEN what value do you want you specify here. ELSE what value you want you will specify here."
   ]
  },
  {
   "cell_type": "markdown",
   "metadata": {},
   "source": [
    "### 39. What are Analytical Functions in SQL?\n",
    "\n",
    "Unlike aggregate functions, however analytical functions can return multiple rows for each group of rows. Internally execution of analytical functions organizes the data into partitions, computes the functions over these partitions in a specific order and returns the result.\n",
    "\n",
    "Examples:\n",
    "\n",
    "- RANK()\n",
    "\n",
    "- DENSE_RANK()\n",
    "\n",
    "- ROW_NUMBER()\n",
    "\n",
    "- LEAD()\n",
    "\n",
    "- LAG()"
   ]
  },
  {
   "cell_type": "markdown",
   "metadata": {},
   "source": [
    "### 40. Difference between RANK() and DENSE_RANK()\n",
    "\n",
    "In RANK(), ties are assigned same rank with next ranking(s) skipped.\n",
    "\n",
    "EX: 1, 1, 1, 4\n",
    "\n",
    "In DENSE_RANK(), ties are assigned same rank but it assigns next consecutive rank.\n",
    "\n",
    "Ex: 1, 1, 1, 2"
   ]
  },
  {
   "cell_type": "markdown",
   "metadata": {},
   "source": [
    "### 41. Difference between IN and EXISTS?"
   ]
  },
  {
   "cell_type": "markdown",
   "metadata": {},
   "source": [
    "### 42. How do you copy data from one table to another?\n",
    "\n",
    "You can use INSERT INTO statement along with SELECT statement to copy data from one table to another.\n",
    "\n",
    "INSERT INTO table2\n",
    "\n",
    "SELECT * FROM table1\n",
    "\n",
    "WHERE condition;"
   ]
  },
  {
   "cell_type": "markdown",
   "metadata": {},
   "source": [
    "### 43. What is cursor?"
   ]
  },
  {
   "cell_type": "markdown",
   "metadata": {},
   "source": [
    "### 44. What is identity column in SQL?\n",
    "\n",
    "An identity column in where SQL automatically generates numeric values. We can define a start and increment value of the identity column."
   ]
  },
  {
   "cell_type": "markdown",
   "metadata": {},
   "source": [
    "### 45. What is  schema?\n",
    "\n",
    "Collection of database objects of a User."
   ]
  },
  {
   "cell_type": "markdown",
   "metadata": {},
   "source": [
    "### 46. Difference between LEAD() and LAG()\n",
    "\n",
    "By using the LAG() function, from current row, you can access data of the previous row, or row before the current row or so on.\n",
    "\n",
    "By using the LEAD() function, from current row, you can access data of the next row or the row after next or so on."
   ]
  },
  {
   "cell_type": "code",
   "execution_count": null,
   "metadata": {},
   "outputs": [],
   "source": []
  }
 ],
 "metadata": {
  "kernelspec": {
   "display_name": "Python 3",
   "language": "python",
   "name": "python3"
  },
  "language_info": {
   "codemirror_mode": {
    "name": "ipython",
    "version": 3
   },
   "file_extension": ".py",
   "mimetype": "text/x-python",
   "name": "python",
   "nbconvert_exporter": "python",
   "pygments_lexer": "ipython3",
   "version": "3.7.4"
  }
 },
 "nbformat": 4,
 "nbformat_minor": 2
}
